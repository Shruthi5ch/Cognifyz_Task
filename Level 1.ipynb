{
 "cells": [
  {
   "cell_type": "code",
   "execution_count": 3,
   "id": "aa50ac4b",
   "metadata": {},
   "outputs": [
    {
     "name": "stdout",
     "output_type": "stream",
     "text": [
      "Please Enter a string:shruthi\n",
      "Reverse of string is:\n",
      "ihturhs\n"
     ]
    }
   ],
   "source": [
    "# task1\n",
    "\n",
    "def reverse(s):\n",
    "    x=m[::-1]\n",
    "    return x\n",
    "s=str(input('Please Enter a string:'))\n",
    "print(\"Reverse of string is:\")\n",
    "print(reverse(s))"
   ]
  },
  {
   "cell_type": "code",
   "execution_count": 5,
   "id": "424c933a",
   "metadata": {},
   "outputs": [
    {
     "name": "stdout",
     "output_type": "stream",
     "text": [
      "enter a number:15\n",
      " enter the unit of measurement:f\n",
      "celsius temperature of given fahrenheit tempertaure is:  -9.444444444444445\n"
     ]
    }
   ],
   "source": [
    "# task2\n",
    "\n",
    "m=float(input('enter a number:'))\n",
    "s=input(' enter the unit of measurement:')\n",
    "c=((m-32)*5)/9\n",
    "f=(((9*m)/5)+32)\n",
    "if s=='c':\n",
    "    print('fahrenheit temperature of given celsius temp is:',f)\n",
    "elif s=='f':\n",
    "    print('celsius temperature of given fahrenheit tempertaure is: ',c)\n",
    "else:\n",
    "    print('enter a valid unit of measurement')"
   ]
  },
  {
   "cell_type": "code",
   "execution_count": 7,
   "id": "6fde3f7e",
   "metadata": {},
   "outputs": [
    {
     "name": "stdout",
     "output_type": "stream",
     "text": [
      "Enter an email id:shruthi@gmail.com\n",
      "True\n"
     ]
    }
   ],
   "source": [
    "# task3\n",
    "\n",
    "import re\n",
    "def is_valid_mail(mail):\n",
    "    mail_pattern = r\"^[a-z]+@[gmail.com]\"\n",
    "    if re.match(mail_pattern,mail):\n",
    "        return True\n",
    "    else:\n",
    "        return False\n",
    "mail=str(input(\"Enter an email id:\"))\n",
    "ans=is_valid_mail(mail)\n",
    "print(ans)"
   ]
  },
  {
   "cell_type": "code",
   "execution_count": 9,
   "id": "e7628cf9",
   "metadata": {},
   "outputs": [
    {
     "name": "stdout",
     "output_type": "stream",
     "text": [
      "Enter the first number:12\n",
      "Enter the second number:13\n",
      "enter an operator:*\n",
      "The result of q*r is: 156\n"
     ]
    }
   ],
   "source": [
    "# task4\n",
    "\n",
    "q=int(input('Enter the first number:'))\n",
    "r=int(input('Enter the second number:'))\n",
    "s=input('enter an operator:')\n",
    "if s=='+':\n",
    "    print('The result of q+r is:',q+r)\n",
    "elif s=='-':\n",
    "    print('The result of q-r is:',q-r)\n",
    "elif s=='*':\n",
    "    print('The result of q*r is:',q*r)\n",
    "elif s=='/':\n",
    "    print('The result of q/r is:',q/r)\n",
    "elif s=='%':\n",
    "    print('The result of q%r is:',q%r)\n",
    "else:\n",
    "    print('Enter the valid operator')"
   ]
  },
  {
   "cell_type": "code",
   "execution_count": 11,
   "id": "cb26edff",
   "metadata": {},
   "outputs": [
    {
     "name": "stdout",
     "output_type": "stream",
     "text": [
      "Enter a String:mom\n",
      "Yes it is Palindrome\n"
     ]
    }
   ],
   "source": [
    "# task5\n",
    "\n",
    "def palindrome(m):\n",
    "    return m==m[::-1]\n",
    "m=str(input(\"Enter a String:\"))\n",
    "x=palindrome(m)\n",
    "if x:\n",
    "    print(\"Yes it is Palindrome\")\n",
    "else:\n",
    "    print(\"No it is not a palindrome\")"
   ]
  }
 ],
 "metadata": {
  "kernelspec": {
   "display_name": "Python 3 (ipykernel)",
   "language": "python",
   "name": "python3"
  },
  "language_info": {
   "codemirror_mode": {
    "name": "ipython",
    "version": 3
   },
   "file_extension": ".py",
   "mimetype": "text/x-python",
   "name": "python",
   "nbconvert_exporter": "python",
   "pygments_lexer": "ipython3",
   "version": "3.10.9"
  }
 },
 "nbformat": 4,
 "nbformat_minor": 5
}
