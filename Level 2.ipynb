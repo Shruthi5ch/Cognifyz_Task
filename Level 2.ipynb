{
 "cells": [
  {
   "cell_type": "code",
   "execution_count": 1,
   "id": "6a06e04f",
   "metadata": {},
   "outputs": [
    {
     "name": "stdout",
     "output_type": "stream",
     "text": [
      "Enter a number:25\n",
      "Too low\n",
      "Enter a number:15\n",
      "Too low\n",
      "Enter a number:99\n",
      "Too High\n",
      "Enter a number:50\n",
      "Too High\n",
      "Enter a number:20\n",
      "Too low\n",
      "Enter a number:67\n",
      "Too High\n",
      "Enter a number:45\n",
      "Too High\n",
      "Enter a number:30\n",
      "Too low\n",
      "Enter a number:35\n",
      "Too High\n",
      "Enter a number:31\n",
      "Your guess is correct\n"
     ]
    }
   ],
   "source": [
    "# task1\n",
    "\n",
    "import random\n",
    "s=random.randint(1,100)\n",
    "while True:\n",
    "    try:\n",
    "        guess=int(input(\"Enter a number:\"))\n",
    "        if(guess==s):\n",
    "            print(\"Your guess is correct\")\n",
    "            break\n",
    "        elif(guess<s):\n",
    "            print(\"Too low\")\n",
    "        else:\n",
    "            print(\"Too High\")\n",
    "    except ValueError:\n",
    "            print(\"Invalid input\")"
   ]
  },
  {
   "cell_type": "code",
   "execution_count": 2,
   "id": "46a581b8",
   "metadata": {},
   "outputs": [
    {
     "name": "stdout",
     "output_type": "stream",
     "text": [
      "Enter a minimum number:10\n",
      "Enter a maximum number:60\n",
      "guess a number between 10 and 60:43\n",
      "Too High\n",
      "guess a number between 10 and 60:30\n",
      "Too High\n",
      "guess a number between 10 and 60:22\n",
      "Too High\n",
      "guess a number between 10 and 60:15\n",
      "Too low\n",
      "guess a number between 10 and 60:19\n",
      "Your guess is correct\n"
     ]
    }
   ],
   "source": [
    "# task 2\n",
    "\n",
    "import random\n",
    "min_num=int(input(\"Enter a minimum number:\"))\n",
    "max_num=int(input(\"Enter a maximum number:\"))\n",
    "s=random.randint(min_num,max_num)\n",
    "while True:\n",
    "    try:\n",
    "        guess=int(input(f\"guess a number between {min_num} and {max_num}:\"))\n",
    "        if guess==s:\n",
    "            print(\"Your guess is correct\")\n",
    "            break\n",
    "        elif guess<s:\n",
    "            print(\"Too low\")\n",
    "        else:\n",
    "            print(\"Too High\")\n",
    "    except ValueError:\n",
    "        print(f\"Invalid number\")"
   ]
  },
  {
   "cell_type": "code",
   "execution_count": 3,
   "id": "f719afa1",
   "metadata": {},
   "outputs": [
    {
     "name": "stdout",
     "output_type": "stream",
     "text": [
      "Enter password:Coo45*kie\n",
      "strong password\n"
     ]
    }
   ],
   "source": [
    "# task3\n",
    "\n",
    "import re\n",
    "def password_strength(password):\n",
    "    if len(password)<8:\n",
    "        return(\"password is weak it should contain atleast 8 characters\")\n",
    "    if not any(s.isdigit() for s in password):\n",
    "        return(\"password is weak it should contain atleast 1 digit\")\n",
    "    if not any(s.islower() for s in password):\n",
    "        return(\"password is weak it should contain atleast 1 lower case letter\")\n",
    "    if not any(s.isupper() for s in password):\n",
    "        return(\"password is weak it should contain atleast 1 upper case letter\")\n",
    "    if not re.search(r'[(){}\\\\//<>;:*&^%$#@!]',password):\n",
    "        return(\"password is weak it should contain atleast one special character\")\n",
    "    return(\"strong password\")\n",
    "password=input(\"Enter password:\")\n",
    "result=password_strength(password)\n",
    "print(result)"
   ]
  },
  {
   "cell_type": "code",
   "execution_count": 5,
   "id": "94e94da1",
   "metadata": {},
   "outputs": [
    {
     "name": "stdout",
     "output_type": "stream",
     "text": [
      "Enter a number:10\n",
      "Fibonacci sequence is:\n",
      "0\n",
      "1\n",
      "1\n",
      "2\n",
      "3\n",
      "5\n",
      "8\n",
      "13\n",
      "21\n",
      "34\n"
     ]
    }
   ],
   "source": [
    "# task4\n",
    "\n",
    "def recur_fib(s):\n",
    "    if s<=1:\n",
    "        return s\n",
    "    else:\n",
    "        return(recur_fib(s-1)+recur_fib(s-2))\n",
    "r=int(input(\"Enter a number:\"))\n",
    "if r<=0:\n",
    "    print(\"Enter a positive no\")\n",
    "else:\n",
    "    print(\"Fibonacci sequence is:\")\n",
    "    for i in range(r):\n",
    "        print(recur_fib(i))"
   ]
  },
  {
   "cell_type": "code",
   "execution_count": 11,
   "id": "83688ad5",
   "metadata": {},
   "outputs": [
    {
     "name": "stdout",
     "output_type": "stream",
     "text": [
      "hi: 1\n",
      "is: 1\n",
      "shruthi: 1\n",
      "this: 1\n"
     ]
    }
   ],
   "source": [
    "# task5\n",
    "\n",
    "def word_count_path(file_path):\n",
    "    word_count = {}\n",
    "    with open(file_path, 'r') as file:\n",
    "        text = file.read()\n",
    "    words = text.split()\n",
    "    for word in words:\n",
    "        word = word.strip('.,!?\":;()[]{}')\n",
    "        word = word.lower()\n",
    "        if word in word_count:\n",
    "            word_count[word] += 1\n",
    "        else:\n",
    "            word_count[word] = 1\n",
    "    return word_count\n",
    "def display_word_count(word_count):\n",
    "    for word in sorted(word_count.keys()):\n",
    "        print(f\"{word}: {word_count[word]}\")\n",
    "def main():\n",
    "    file_path = \"C:/Users/shrut/Downloads/sv.txt\"\n",
    "    word_count = word_count_path(file_path)\n",
    "    display_word_count(word_count)\n",
    "if __name__ == \"__main__\":\n",
    "    main()"
   ]
  },
  {
   "cell_type": "code",
   "execution_count": null,
   "id": "f10c3fa4",
   "metadata": {},
   "outputs": [],
   "source": []
  }
 ],
 "metadata": {
  "kernelspec": {
   "display_name": "Python 3 (ipykernel)",
   "language": "python",
   "name": "python3"
  },
  "language_info": {
   "codemirror_mode": {
    "name": "ipython",
    "version": 3
   },
   "file_extension": ".py",
   "mimetype": "text/x-python",
   "name": "python",
   "nbconvert_exporter": "python",
   "pygments_lexer": "ipython3",
   "version": "3.10.9"
  }
 },
 "nbformat": 4,
 "nbformat_minor": 5
}
